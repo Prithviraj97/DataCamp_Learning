{
 "cells": [
  {
   "cell_type": "code",
   "execution_count": null,
   "metadata": {},
   "outputs": [],
   "source": [
    "import pandas as pd\n",
    "from numpy.random import choice, random\n",
    "import matplotlib.pyplot as plt\n",
    "import seaborn as sns\n",
    " \n",
    "# Set seed here\n",
    "seed(42)\n",
    " \n",
    "# Calculate daily_returns here\n",
    "daily_returns = fb.pct_change().dropna()\n",
    " \n",
    "# Get n_obs\n",
    "n_obs = daily_returns.count()\n",
    " \n",
    "# Create random_walk\n",
    "random_walk = choice(daily_returns, size=n_obs)\n",
    " \n",
    "# Convert random_walk to pd.series\n",
    "random_walk = pd.Series(random_walk)\n",
    " \n",
    "# Plot random_walk distribution\n",
    "sns.distplot(random_walk)\n",
    "plt.show()"
   ]
  },
  {
   "cell_type": "code",
   "execution_count": null,
   "metadata": {},
   "outputs": [],
   "source": [
    "# Inspect data here\n",
    "print(data.info())\n",
    " \n",
    "# Calculate year-end prices here\n",
    "annual_prices = data.resample('A').last()\n",
    " \n",
    "# Calculate annual returns here\n",
    "annual_returns = annual_prices.pct_change()\n",
    " \n",
    "# Calculate and print the correlation matrix here\n",
    "correlations = annual_returns.corr()\n",
    "print(correlations)\n",
    " \n",
    "# Visualize the correlations as heatmap here\n",
    "sns.heatmap(correlations, annot=True)\n",
    "plt.show()\n"
   ]
  },
  {
   "cell_type": "code",
   "execution_count": null,
   "metadata": {},
   "outputs": [],
   "source": [
    "# Inspect listings\n",
    "print(listings.info())\n",
    "\n",
    "# Move 'stock symbol' into the index\n",
    "listings.set_index('Stock Symbol', inplace=True)\n",
    " \n",
    "# Drop rows with missing 'sector' data\n",
    "listings.dropna(subset=['Sector'], inplace=True)\n",
    " \n",
    "# Select companies with IPO Year before 2019\n",
    "listings = listings.loc[listings['IPO Year'] < 2019]\n",
    " \n",
    "# Inspect the new listings data\n",
    "print(listings.info())\n",
    " \n",
    "# Show the number of companies per sector\n",
    "print(listings.groupby('Sector').size().sort_values(ascending=False))\n"
   ]
  },
  {
   "cell_type": "code",
   "execution_count": null,
   "metadata": {},
   "outputs": [],
   "source": [
    "# Calculate the daily returns\n",
    "returns = stock_prices.pct_change()\n",
    " \n",
    "# Calculate and print the pairwise correlations\n",
    "correlations = returns.corr()\n",
    "print(correlations)\n",
    " \n",
    "# Plot a heatmap of daily return correlations\n",
    "sns.heatmap(correlations, annot=True)\n",
    "plt.title('Daily Return Correlations')\n",
    "plt.show()\n",
    "\n"
   ]
  }
 ],
 "metadata": {
  "language_info": {
   "name": "python"
  },
  "orig_nbformat": 4
 },
 "nbformat": 4,
 "nbformat_minor": 2
}
