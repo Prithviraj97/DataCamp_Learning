{
 "cells": [
  {
   "cell_type": "code",
   "execution_count": 1,
   "metadata": {},
   "outputs": [
    {
     "ename": "NameError",
     "evalue": "name 'df' is not defined",
     "output_type": "error",
     "traceback": [
      "\u001b[1;31m---------------------------------------------------------------------------\u001b[0m",
      "\u001b[1;31mNameError\u001b[0m                                 Traceback (most recent call last)",
      "Cell \u001b[1;32mIn[1], line 15\u001b[0m\n\u001b[0;32m     12\u001b[0m bucket_10, bucket_30, bucket_60, bucket_90, bucket_120, bucket_over \u001b[38;5;241m=\u001b[39m [], [], [], [], [], []\n\u001b[0;32m     14\u001b[0m \u001b[38;5;66;03m# Calculate differences\u001b[39;00m\n\u001b[1;32m---> 15\u001b[0m df_diff \u001b[38;5;241m=\u001b[39m \u001b[43mdf\u001b[49m\u001b[38;5;241m.\u001b[39mdiff(\u001b[38;5;241m1\u001b[39m)\n\u001b[0;32m     17\u001b[0m \u001b[38;5;66;03m# Populate the buckets\u001b[39;00m\n\u001b[0;32m     18\u001b[0m \u001b[38;5;28;01mfor\u001b[39;00m i, row \u001b[38;5;129;01min\u001b[39;00m days_to_expiration_df\u001b[38;5;241m.\u001b[39miterrows():\n",
      "\u001b[1;31mNameError\u001b[0m: name 'df' is not defined"
     ]
    }
   ],
   "source": [
    "import pandas as pd\n",
    "import numpy as np\n",
    "import statsmodels.api as sm\n",
    "\n",
    "# Example DataFrame creation\n",
    "# df = pd.DataFrame(...)\n",
    "# days_to_expiration_df = pd.DataFrame(...)\n",
    "\n",
    "# Assuming df and days_to_expiration_df are defined as per your context\n",
    "\n",
    "# Initialize lists for each bucket\n",
    "bucket_10, bucket_30, bucket_60, bucket_90, bucket_120, bucket_over = [], [], [], [], [], []\n",
    "\n",
    "# Calculate differences\n",
    "df_diff = df.diff(1)\n",
    "\n",
    "# Populate the buckets\n",
    "for i, row in days_to_expiration_df.iterrows():\n",
    "    base_vol = df_diff.loc[i, '31/05/2024']\n",
    "    for col, c in row.items():\n",
    "        if np.isnan(c):\n",
    "            continue\n",
    "        \n",
    "        c_vol = df_diff.loc[i, col]\n",
    "        pair = (1, base_vol, c_vol, c)\n",
    "        \n",
    "        if c < 11:\n",
    "            bucket_10.append(pair)\n",
    "        elif c < 31:\n",
    "            bucket_30.append(pair)\n",
    "        elif c < 61:\n",
    "            bucket_60.append(pair)\n",
    "        elif c < 91:\n",
    "            bucket_90.append(pair)\n",
    "        elif c < 121:\n",
    "            bucket_120.append(pair)\n",
    "        else:\n",
    "            bucket_over.append(pair)            \n",
    "\n",
    "bucket_10 = pd.DataFrame(bucket_10, columns = ['constant', 'year', 'less10', 'days'])        \n",
    "bucket_30 = pd.DataFrame(bucket_30, columns = ['constant', 'year', 'less30', 'days'])  \n",
    "bucket_60 = pd.DataFrame(bucket_60, columns = ['constant', 'year', 'less60', 'days'])  \n",
    "bucket_90 = pd.DataFrame(bucket_90, columns = ['constant', 'year', 'less90', 'days'])  \n",
    "\n",
    "# Example of regression with statsmodels\n",
    "def run_regression(bucket_df):\n",
    "    X = bucket_df[['constant', 'year']]  # Independent variables\n",
    "    y = bucket_df.iloc[:, 2]  # Dependent variable (third column of each bucket DataFrame)\n",
    "    model = sm.OLS(y, X)\n",
    "    results = model.fit()\n",
    "    return results.params\n",
    "\n",
    "# Run regression for each bucket\n",
    "b10_results = run_regression(bucket_10)\n",
    "b30_results = run_regression(bucket_30)\n",
    "b60_results = run_regression(bucket_60)\n",
    "b90_results = run_regression(bucket_90)\n",
    "\n",
    "print(b10_results)\n",
    "print(b30_results)\n",
    "print(b60_results)\n",
    "print(b90_results)\n"
   ]
  }
 ],
 "metadata": {
  "kernelspec": {
   "display_name": "Forage",
   "language": "python",
   "name": "python3"
  },
  "language_info": {
   "codemirror_mode": {
    "name": "ipython",
    "version": 3
   },
   "file_extension": ".py",
   "mimetype": "text/x-python",
   "name": "python",
   "nbconvert_exporter": "python",
   "pygments_lexer": "ipython3",
   "version": "3.11.5"
  }
 },
 "nbformat": 4,
 "nbformat_minor": 2
}
